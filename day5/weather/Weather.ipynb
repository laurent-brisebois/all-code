{
 "cells": [
  {
   "cell_type": "markdown",
   "metadata": {},
   "source": [
    "# Open Weather API"
   ]
  },
  {
   "cell_type": "markdown",
   "metadata": {},
   "source": [
    "A free API to retrieve weather data on anywhere in the world.   \n",
    "[Check out their website](https://openweathermap.org/)"
   ]
  },
  {
   "cell_type": "markdown",
   "metadata": {},
   "source": [
    "## Weather Conditions Codes\n",
    "\n",
    "#### [Link Here](https://openweathermap.org/weather-conditions)  \n",
    "            \n",
    "<br/>\n",
    "<br/>\n",
    "\n",
    "  \n",
    "```\n",
    "Group 2xx: Thunderstorm\n",
    "ID      Main            Description\n",
    "200 \tThunderstorm \tthunderstorm with light rain\n",
    "201 \tThunderstorm \tthunderstorm with rain\n",
    "202 \tThunderstorm \tthunderstorm with heavy rain\n",
    "210 \tThunderstorm \tlight thunderstorm\n",
    "211 \tThunderstorm \tthunderstorm\n",
    "212 \tThunderstorm \theavy thunderstorm\n",
    "221 \tThunderstorm \tragged thunderstorm\n",
    "230 \tThunderstorm \tthunderstorm with light drizzle\n",
    "231 \tThunderstorm \tthunderstorm with drizzle\n",
    "232 \tThunderstorm \tthunderstorm with heavy drizzle\n",
    "\n",
    "Group 5xx: Rain\n",
    "ID \t Main \tDescription\n",
    "500 \tRain \tlight rain\n",
    "501 \tRain \tmoderate rain\n",
    "502 \tRain \theavy intensity rain\n",
    "503 \tRain \tvery heavy rain\n",
    "504 \tRain \textreme rain\n",
    "511 \tRain \tfreezing rain\n",
    "520 \tRain \tlight intensity shower rain\n",
    "521 \tRain \tshower rain\n",
    "522 \tRain \theavy intensity shower rain\n",
    "531 \tRain \tragged shower rain\n",
    "```"
   ]
  },
  {
   "cell_type": "markdown",
   "metadata": {},
   "source": [
    "<br />\n",
    "\n",
    "## Imports"
   ]
  },
  {
   "cell_type": "code",
   "execution_count": null,
   "metadata": {},
   "outputs": [],
   "source": [
    "import requests"
   ]
  },
  {
   "cell_type": "markdown",
   "metadata": {},
   "source": [
    "<br />\n",
    "\n",
    "## Main App Logic"
   ]
  },
  {
   "cell_type": "markdown",
   "metadata": {},
   "source": [
    "<br />\n",
    "\n",
    "### The request class returns an object with the content of the response from the server"
   ]
  },
  {
   "cell_type": "code",
   "execution_count": null,
   "metadata": {},
   "outputs": [],
   "source": [
    "url = \"https://api.openweathermap.org/data/2.5/onecall?lat=45.42&lon=-75.69&exclude=minutely&appid=e6b45bbe9e880c661f1efce980849946\"\n",
    "\n",
    "response = requests.request(\"GET\", url)"
   ]
  },
  {
   "cell_type": "code",
   "execution_count": null,
   "metadata": {},
   "outputs": [],
   "source": [
    "print(response)"
   ]
  },
  {
   "cell_type": "code",
   "execution_count": null,
   "metadata": {},
   "outputs": [],
   "source": [
    "type(response)"
   ]
  },
  {
   "cell_type": "markdown",
   "metadata": {},
   "source": [
    "<br />\n",
    "\n",
    "### Not quite what I was looking for. The `json()` method will parse the server response and create a python dictionary"
   ]
  },
  {
   "cell_type": "code",
   "execution_count": null,
   "metadata": {},
   "outputs": [],
   "source": [
    "clean_response = response.json()"
   ]
  },
  {
   "cell_type": "code",
   "execution_count": null,
   "metadata": {},
   "outputs": [],
   "source": [
    "print(clean_response)"
   ]
  },
  {
   "cell_type": "markdown",
   "metadata": {},
   "source": [
    "<br />\n",
    "\n",
    "### Now that I have a dictionary, I can navigate through it to find what I'm looking for."
   ]
  },
  {
   "cell_type": "code",
   "execution_count": null,
   "metadata": {},
   "outputs": [],
   "source": [
    "clean_response[\"daily\"]"
   ]
  },
  {
   "cell_type": "code",
   "execution_count": null,
   "metadata": {},
   "outputs": [],
   "source": [
    "len(clean_response[\"daily\"])"
   ]
  },
  {
   "cell_type": "code",
   "execution_count": null,
   "metadata": {},
   "outputs": [],
   "source": [
    "clean_response[\"daily\"][0][\"weather\"][0][\"id\"]"
   ]
  },
  {
   "cell_type": "markdown",
   "metadata": {},
   "source": [
    "<br />\n",
    "\n",
    "### Some testing"
   ]
  },
  {
   "cell_type": "code",
   "execution_count": null,
   "metadata": {},
   "outputs": [],
   "source": [
    "for i in range(len(clean_response[\"daily\"])):\n",
    "    print(clean_response[\"daily\"][i][\"weather\"][0][\"id\"])"
   ]
  },
  {
   "cell_type": "markdown",
   "metadata": {},
   "source": [
    "<br />\n",
    "\n",
    "### Expected thunderstorms"
   ]
  },
  {
   "cell_type": "code",
   "execution_count": null,
   "metadata": {},
   "outputs": [],
   "source": [
    "for i in range(len(clean_response[\"daily\"])):\n",
    "    \n",
    "    if (199 < clean_response[\"daily\"][i][\"weather\"][0][\"id\"] < 240) :\n",
    "        print(f\"Thunderstorms are expected in {i} days\")\n",
    "    \n",
    "    else:\n",
    "        print(f\"Day {i} clear\")"
   ]
  },
  {
   "cell_type": "markdown",
   "metadata": {},
   "source": [
    "<br />\n",
    "\n",
    "### Expected rain"
   ]
  },
  {
   "cell_type": "code",
   "execution_count": null,
   "metadata": {},
   "outputs": [],
   "source": [
    "for i in range(len(clean_response[\"daily\"])):\n",
    "    \n",
    "    if (499 < clean_response[\"daily\"][i][\"weather\"][0][\"id\"] < 540) :\n",
    "        print(f\"Rain is expected in {i} days\")\n",
    "    \n",
    "    else:\n",
    "        print(f\"Day {i} clear\")"
   ]
  },
  {
   "cell_type": "markdown",
   "metadata": {},
   "source": [
    "<br />\n",
    "\n",
    "### Using counters"
   ]
  },
  {
   "cell_type": "code",
   "execution_count": null,
   "metadata": {},
   "outputs": [],
   "source": [
    "rain = 0\n",
    "\n",
    "for i in range(48):  \n",
    "    if (499 < clean_response[\"hourly\"][i][\"weather\"][0][\"id\"] < 540):\n",
    "        print(f\"Thunderstorms are expected in {i} hours\")\n",
    "        rain = rain + 1\n",
    "\n",
    "if rain == 0:\n",
    "    print(\"All clear for the next 48 hours\")\n",
    "else:\n",
    "    print(f\"\\nTOTAL: {rain} hours of rain over the next 48 hours\")"
   ]
  },
  {
   "cell_type": "markdown",
   "metadata": {},
   "source": [
    "<br />\n",
    "\n",
    "### What else could I add to this to make it cooler?"
   ]
  },
  {
   "cell_type": "code",
   "execution_count": null,
   "metadata": {},
   "outputs": [],
   "source": []
  }
 ],
 "metadata": {
  "kernelspec": {
   "display_name": "Python 3",
   "language": "python",
   "name": "python3"
  },
  "language_info": {
   "codemirror_mode": {
    "name": "ipython",
    "version": 3
   },
   "file_extension": ".py",
   "mimetype": "text/x-python",
   "name": "python",
   "nbconvert_exporter": "python",
   "pygments_lexer": "ipython3",
   "version": "3.7.3"
  }
 },
 "nbformat": 4,
 "nbformat_minor": 4
}
