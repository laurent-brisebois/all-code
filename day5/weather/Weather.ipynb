{
 "cells": [
  {
   "cell_type": "markdown",
   "metadata": {},
   "source": [
    "# Open Weather API"
   ]
  },
  {
   "cell_type": "markdown",
   "metadata": {},
   "source": [
    "A free API to retrieve weather data on anywhere in the world.   \n",
    "[Check out their website](https://openweathermap.org/)"
   ]
  },
  {
   "cell_type": "markdown",
   "metadata": {},
   "source": [
    "## Weather Conditions Codes\n",
    "\n",
    "#### [Link Here](https://openweathermap.org/weather-conditions)  \n",
    "            \n",
    "<br/>\n",
    "<br/>\n",
    "\n",
    "  \n",
    "```\n",
    "Group 2xx: Thunderstorm\n",
    "ID      Main            Description\n",
    "200 \tThunderstorm \tthunderstorm with light rain\n",
    "201 \tThunderstorm \tthunderstorm with rain\n",
    "202 \tThunderstorm \tthunderstorm with heavy rain\n",
    "210 \tThunderstorm \tlight thunderstorm\n",
    "211 \tThunderstorm \tthunderstorm\n",
    "212 \tThunderstorm \theavy thunderstorm\n",
    "221 \tThunderstorm \tragged thunderstorm\n",
    "230 \tThunderstorm \tthunderstorm with light drizzle\n",
    "231 \tThunderstorm \tthunderstorm with drizzle\n",
    "232 \tThunderstorm \tthunderstorm with heavy drizzle\n",
    "\n",
    "Group 5xx: Rain\n",
    "ID \t Main \tDescription\n",
    "500 \tRain \tlight rain\n",
    "501 \tRain \tmoderate rain\n",
    "502 \tRain \theavy intensity rain\n",
    "503 \tRain \tvery heavy rain\n",
    "504 \tRain \textreme rain\n",
    "511 \tRain \tfreezing rain\n",
    "520 \tRain \tlight intensity shower rain\n",
    "521 \tRain \tshower rain\n",
    "522 \tRain \theavy intensity shower rain\n",
    "531 \tRain \tragged shower rain\n",
    "```"
   ]
  },
  {
   "cell_type": "markdown",
   "metadata": {},
   "source": [
    "<br />\n",
    "\n",
    "## Imports"
   ]
  },
  {
   "cell_type": "code",
   "execution_count": 1,
   "metadata": {},
   "outputs": [],
   "source": [
    "import requests"
   ]
  },
  {
   "cell_type": "markdown",
   "metadata": {},
   "source": [
    "<br />\n",
    "\n",
    "## Main App Logic"
   ]
  },
  {
   "cell_type": "markdown",
   "metadata": {},
   "source": [
    "<br />\n",
    "\n",
    "### The request class returns an object with the content of the response from the server"
   ]
  },
  {
   "cell_type": "code",
   "execution_count": 2,
   "metadata": {},
   "outputs": [],
   "source": [
    "url = \"https://api.openweathermap.org/data/2.5/onecall?lat=45.42&lon=-75.69&exclude=minutely&appid=e6b45bbe9e880c661f1efce980849946\"\n",
    "\n",
    "response = requests.request(\"GET\", url)"
   ]
  },
  {
   "cell_type": "code",
   "execution_count": 3,
   "metadata": {},
   "outputs": [
    {
     "name": "stdout",
     "output_type": "stream",
     "text": [
      "<Response [200]>\n"
     ]
    }
   ],
   "source": [
    "print(response)"
   ]
  },
  {
   "cell_type": "code",
   "execution_count": 4,
   "metadata": {},
   "outputs": [
    {
     "data": {
      "text/plain": [
       "requests.models.Response"
      ]
     },
     "execution_count": 4,
     "metadata": {},
     "output_type": "execute_result"
    }
   ],
   "source": [
    "type(response)"
   ]
  },
  {
   "cell_type": "markdown",
   "metadata": {},
   "source": [
    "<br />\n",
    "\n",
    "### Not quite what I was looking for. The `json()` method will parse the server response and create a python dictionary"
   ]
  },
  {
   "cell_type": "code",
   "execution_count": 5,
   "metadata": {},
   "outputs": [],
   "source": [
    "clean_response = response.json()"
   ]
  },
  {
   "cell_type": "code",
   "execution_count": 6,
   "metadata": {},
   "outputs": [
    {
     "name": "stdout",
     "output_type": "stream",
     "text": [
      "{'lat': 45.42, 'lon': -75.69, 'timezone': 'America/Toronto', 'timezone_offset': -14400, 'current': {'dt': 1591368834, 'sunrise': 1591348547, 'sunset': 1591404434, 'temp': 295.9, 'feels_like': 294.13, 'pressure': 1009, 'humidity': 56, 'dew_point': 286.68, 'uvi': 7.98, 'clouds': 20, 'visibility': 24140, 'wind_speed': 4.1, 'wind_deg': 260, 'weather': [{'id': 801, 'main': 'Clouds', 'description': 'few clouds', 'icon': '02d'}]}, 'hourly': [{'dt': 1591365600, 'temp': 295.9, 'feels_like': 295.38, 'pressure': 1009, 'humidity': 56, 'dew_point': 286.68, 'clouds': 20, 'wind_speed': 2.32, 'wind_deg': 276, 'weather': [{'id': 801, 'main': 'Clouds', 'description': 'few clouds', 'icon': '02d'}]}, {'dt': 1591369200, 'temp': 295.69, 'feels_like': 295.58, 'pressure': 1009, 'humidity': 61, 'dew_point': 287.8, 'clouds': 13, 'wind_speed': 2.28, 'wind_deg': 255, 'weather': [{'id': 801, 'main': 'Clouds', 'description': 'few clouds', 'icon': '02d'}]}, {'dt': 1591372800, 'temp': 296.52, 'feels_like': 296.41, 'pressure': 1009, 'humidity': 60, 'dew_point': 288.32, 'clouds': 7, 'wind_speed': 2.55, 'wind_deg': 237, 'weather': [{'id': 800, 'main': 'Clear', 'description': 'clear sky', 'icon': '01d'}]}, {'dt': 1591376400, 'temp': 297.33, 'feels_like': 297.11, 'pressure': 1009, 'humidity': 59, 'dew_point': 288.82, 'clouds': 5, 'wind_speed': 2.96, 'wind_deg': 237, 'weather': [{'id': 800, 'main': 'Clear', 'description': 'clear sky', 'icon': '01d'}]}, {'dt': 1591380000, 'temp': 298.33, 'feels_like': 297.89, 'pressure': 1009, 'humidity': 56, 'dew_point': 288.94, 'clouds': 4, 'wind_speed': 3.34, 'wind_deg': 250, 'weather': [{'id': 800, 'main': 'Clear', 'description': 'clear sky', 'icon': '01d'}]}, {'dt': 1591383600, 'temp': 299.01, 'feels_like': 298.59, 'pressure': 1008, 'humidity': 52, 'dew_point': 288.66, 'clouds': 0, 'wind_speed': 3.04, 'wind_deg': 254, 'weather': [{'id': 800, 'main': 'Clear', 'description': 'clear sky', 'icon': '01d'}]}, {'dt': 1591387200, 'temp': 299.73, 'feels_like': 300.28, 'pressure': 1008, 'humidity': 50, 'dew_point': 288.69, 'clouds': 4, 'wind_speed': 1.67, 'wind_deg': 262, 'weather': [{'id': 800, 'main': 'Clear', 'description': 'clear sky', 'icon': '01d'}]}, {'dt': 1591390800, 'temp': 299.78, 'feels_like': 300.87, 'pressure': 1007, 'humidity': 54, 'dew_point': 289.9, 'clouds': 22, 'wind_speed': 1.58, 'wind_deg': 210, 'weather': [{'id': 801, 'main': 'Clouds', 'description': 'few clouds', 'icon': '02d'}]}, {'dt': 1591394400, 'temp': 298.73, 'feels_like': 299.65, 'pressure': 1007, 'humidity': 64, 'dew_point': 291.57, 'clouds': 23, 'wind_speed': 2.83, 'wind_deg': 159, 'weather': [{'id': 801, 'main': 'Clouds', 'description': 'few clouds', 'icon': '02d'}]}, {'dt': 1591398000, 'temp': 296.53, 'feels_like': 296.97, 'pressure': 1007, 'humidity': 72, 'dew_point': 291.35, 'clouds': 38, 'wind_speed': 3.38, 'wind_deg': 158, 'weather': [{'id': 802, 'main': 'Clouds', 'description': 'scattered clouds', 'icon': '03d'}]}, {'dt': 1591401600, 'temp': 294.77, 'feels_like': 294.42, 'pressure': 1007, 'humidity': 76, 'dew_point': 290.37, 'clouds': 48, 'wind_speed': 4.01, 'wind_deg': 162, 'weather': [{'id': 802, 'main': 'Clouds', 'description': 'scattered clouds', 'icon': '03d'}]}, {'dt': 1591405200, 'temp': 292.73, 'feels_like': 292.23, 'pressure': 1007, 'humidity': 86, 'dew_point': 290.5, 'clouds': 87, 'wind_speed': 4.21, 'wind_deg': 208, 'weather': [{'id': 501, 'main': 'Rain', 'description': 'moderate rain', 'icon': '10n'}], 'rain': {'1h': 1.25}}, {'dt': 1591408800, 'temp': 291.64, 'feels_like': 291.85, 'pressure': 1007, 'humidity': 90, 'dew_point': 289.99, 'clouds': 65, 'wind_speed': 2.99, 'wind_deg': 226, 'weather': [{'id': 501, 'main': 'Rain', 'description': 'moderate rain', 'icon': '10n'}], 'rain': {'1h': 1.21}}, {'dt': 1591412400, 'temp': 291.56, 'feels_like': 291.62, 'pressure': 1007, 'humidity': 90, 'dew_point': 290.04, 'clouds': 73, 'wind_speed': 3.16, 'wind_deg': 239, 'weather': [{'id': 500, 'main': 'Rain', 'description': 'light rain', 'icon': '10n'}], 'rain': {'1h': 0.87}}, {'dt': 1591416000, 'temp': 291.32, 'feels_like': 291.72, 'pressure': 1007, 'humidity': 89, 'dew_point': 289.63, 'clouds': 80, 'wind_speed': 2.44, 'wind_deg': 235, 'weather': [{'id': 500, 'main': 'Rain', 'description': 'light rain', 'icon': '10n'}], 'rain': {'1h': 0.14}}, {'dt': 1591419600, 'temp': 290.73, 'feels_like': 291.59, 'pressure': 1007, 'humidity': 91, 'dew_point': 289.37, 'clouds': 84, 'wind_speed': 1.66, 'wind_deg': 262, 'weather': [{'id': 803, 'main': 'Clouds', 'description': 'broken clouds', 'icon': '04n'}]}, {'dt': 1591423200, 'temp': 289.83, 'feels_like': 290.76, 'pressure': 1007, 'humidity': 93, 'dew_point': 288.84, 'clouds': 84, 'wind_speed': 1.27, 'wind_deg': 311, 'weather': [{'id': 500, 'main': 'Rain', 'description': 'light rain', 'icon': '10n'}], 'rain': {'1h': 0.24}}, {'dt': 1591426800, 'temp': 288.72, 'feels_like': 289.4, 'pressure': 1006, 'humidity': 94, 'dew_point': 287.83, 'clouds': 60, 'wind_speed': 1.14, 'wind_deg': 352, 'weather': [{'id': 803, 'main': 'Clouds', 'description': 'broken clouds', 'icon': '04n'}]}, {'dt': 1591430400, 'temp': 288.05, 'feels_like': 288.57, 'pressure': 1006, 'humidity': 94, 'dew_point': 287.12, 'clouds': 58, 'wind_speed': 1.04, 'wind_deg': 8, 'weather': [{'id': 803, 'main': 'Clouds', 'description': 'broken clouds', 'icon': '04n'}]}, {'dt': 1591434000, 'temp': 287.41, 'feels_like': 287.09, 'pressure': 1006, 'humidity': 93, 'dew_point': 286.3, 'clouds': 49, 'wind_speed': 1.85, 'wind_deg': 356, 'weather': [{'id': 802, 'main': 'Clouds', 'description': 'scattered clouds', 'icon': '03n'}]}, {'dt': 1591437600, 'temp': 287.08, 'feels_like': 286.61, 'pressure': 1006, 'humidity': 93, 'dew_point': 286.01, 'clouds': 40, 'wind_speed': 1.92, 'wind_deg': 340, 'weather': [{'id': 802, 'main': 'Clouds', 'description': 'scattered clouds', 'icon': '03d'}]}, {'dt': 1591441200, 'temp': 288.54, 'feels_like': 288.34, 'pressure': 1006, 'humidity': 92, 'dew_point': 287.27, 'clouds': 38, 'wind_speed': 2.14, 'wind_deg': 306, 'weather': [{'id': 802, 'main': 'Clouds', 'description': 'scattered clouds', 'icon': '03d'}]}, {'dt': 1591444800, 'temp': 289.97, 'feels_like': 289.32, 'pressure': 1007, 'humidity': 88, 'dew_point': 288.03, 'clouds': 36, 'wind_speed': 3.14, 'wind_deg': 294, 'weather': [{'id': 802, 'main': 'Clouds', 'description': 'scattered clouds', 'icon': '03d'}]}, {'dt': 1591448400, 'temp': 291.37, 'feels_like': 290.23, 'pressure': 1007, 'humidity': 82, 'dew_point': 288.4, 'clouds': 0, 'wind_speed': 3.98, 'wind_deg': 289, 'weather': [{'id': 800, 'main': 'Clear', 'description': 'clear sky', 'icon': '01d'}]}, {'dt': 1591452000, 'temp': 292.22, 'feels_like': 290.36, 'pressure': 1007, 'humidity': 78, 'dew_point': 288.46, 'clouds': 0, 'wind_speed': 5.04, 'wind_deg': 288, 'weather': [{'id': 500, 'main': 'Rain', 'description': 'light rain', 'icon': '10d'}], 'rain': {'1h': 0.27}}, {'dt': 1591455600, 'temp': 293.25, 'feels_like': 290.65, 'pressure': 1007, 'humidity': 70, 'dew_point': 287.61, 'clouds': 0, 'wind_speed': 5.74, 'wind_deg': 283, 'weather': [{'id': 500, 'main': 'Rain', 'description': 'light rain', 'icon': '10d'}], 'rain': {'1h': 0.16}}, {'dt': 1591459200, 'temp': 293.45, 'feels_like': 290.03, 'pressure': 1007, 'humidity': 67, 'dew_point': 287.34, 'clouds': 0, 'wind_speed': 6.67, 'wind_deg': 286, 'weather': [{'id': 500, 'main': 'Rain', 'description': 'light rain', 'icon': '10d'}], 'rain': {'1h': 0.24}}, {'dt': 1591462800, 'temp': 294.02, 'feels_like': 290.58, 'pressure': 1007, 'humidity': 63, 'dew_point': 286.85, 'clouds': 0, 'wind_speed': 6.51, 'wind_deg': 293, 'weather': [{'id': 500, 'main': 'Rain', 'description': 'light rain', 'icon': '10d'}], 'rain': {'1h': 0.28}}, {'dt': 1591466400, 'temp': 294.2, 'feels_like': 289.99, 'pressure': 1007, 'humidity': 58, 'dew_point': 285.75, 'clouds': 0, 'wind_speed': 7.1, 'wind_deg': 316, 'weather': [{'id': 500, 'main': 'Rain', 'description': 'light rain', 'icon': '10d'}], 'rain': {'1h': 0.27}}, {'dt': 1591470000, 'temp': 293.64, 'feels_like': 289.24, 'pressure': 1007, 'humidity': 58, 'dew_point': 285.11, 'clouds': 10, 'wind_speed': 7.14, 'wind_deg': 330, 'weather': [{'id': 500, 'main': 'Rain', 'description': 'light rain', 'icon': '10d'}], 'rain': {'1h': 0.11}}, {'dt': 1591473600, 'temp': 293.32, 'feels_like': 289.3, 'pressure': 1007, 'humidity': 57, 'dew_point': 284.65, 'clouds': 15, 'wind_speed': 6.36, 'wind_deg': 331, 'weather': [{'id': 801, 'main': 'Clouds', 'description': 'few clouds', 'icon': '02d'}]}, {'dt': 1591477200, 'temp': 292.71, 'feels_like': 288.61, 'pressure': 1008, 'humidity': 57, 'dew_point': 284.09, 'clouds': 12, 'wind_speed': 6.24, 'wind_deg': 344, 'weather': [{'id': 801, 'main': 'Clouds', 'description': 'few clouds', 'icon': '02d'}]}, {'dt': 1591480800, 'temp': 291.73, 'feels_like': 288.21, 'pressure': 1008, 'humidity': 61, 'dew_point': 284.14, 'clouds': 9, 'wind_speed': 5.45, 'wind_deg': 352, 'weather': [{'id': 800, 'main': 'Clear', 'description': 'clear sky', 'icon': '01d'}]}, {'dt': 1591484400, 'temp': 290.29, 'feels_like': 287.5, 'pressure': 1009, 'humidity': 66, 'dew_point': 283.95, 'clouds': 10, 'wind_speed': 4.34, 'wind_deg': 348, 'weather': [{'id': 800, 'main': 'Clear', 'description': 'clear sky', 'icon': '01d'}]}, {'dt': 1591488000, 'temp': 288.43, 'feels_like': 285.37, 'pressure': 1010, 'humidity': 67, 'dew_point': 282.55, 'clouds': 8, 'wind_speed': 4.13, 'wind_deg': 348, 'weather': [{'id': 800, 'main': 'Clear', 'description': 'clear sky', 'icon': '01d'}]}, {'dt': 1591491600, 'temp': 286.96, 'feels_like': 283.63, 'pressure': 1011, 'humidity': 65, 'dew_point': 280.63, 'clouds': 0, 'wind_speed': 3.87, 'wind_deg': 348, 'weather': [{'id': 800, 'main': 'Clear', 'description': 'clear sky', 'icon': '01n'}]}, {'dt': 1591495200, 'temp': 286.13, 'feels_like': 282.76, 'pressure': 1012, 'humidity': 68, 'dew_point': 280.37, 'clouds': 8, 'wind_speed': 3.89, 'wind_deg': 346, 'weather': [{'id': 800, 'main': 'Clear', 'description': 'clear sky', 'icon': '01n'}]}, {'dt': 1591498800, 'temp': 285.02, 'feels_like': 281.91, 'pressure': 1012, 'humidity': 73, 'dew_point': 280.47, 'clouds': 14, 'wind_speed': 3.5, 'wind_deg': 333, 'weather': [{'id': 801, 'main': 'Clouds', 'description': 'few clouds', 'icon': '02n'}]}, {'dt': 1591502400, 'temp': 284.51, 'feels_like': 281.17, 'pressure': 1013, 'humidity': 75, 'dew_point': 280.28, 'clouds': 12, 'wind_speed': 3.8, 'wind_deg': 328, 'weather': [{'id': 801, 'main': 'Clouds', 'description': 'few clouds', 'icon': '02n'}]}, {'dt': 1591506000, 'temp': 284.31, 'feels_like': 280.63, 'pressure': 1013, 'humidity': 71, 'dew_point': 279.31, 'clouds': 9, 'wind_speed': 3.97, 'wind_deg': 328, 'weather': [{'id': 800, 'main': 'Clear', 'description': 'clear sky', 'icon': '01n'}]}, {'dt': 1591509600, 'temp': 284.03, 'feels_like': 279.92, 'pressure': 1013, 'humidity': 69, 'dew_point': 278.6, 'clouds': 10, 'wind_speed': 4.38, 'wind_deg': 329, 'weather': [{'id': 800, 'main': 'Clear', 'description': 'clear sky', 'icon': '01n'}]}, {'dt': 1591513200, 'temp': 283.82, 'feels_like': 279.58, 'pressure': 1014, 'humidity': 67, 'dew_point': 278.05, 'clouds': 1, 'wind_speed': 4.39, 'wind_deg': 336, 'weather': [{'id': 800, 'main': 'Clear', 'description': 'clear sky', 'icon': '01n'}]}, {'dt': 1591516800, 'temp': 283.48, 'feels_like': 279.07, 'pressure': 1014, 'humidity': 67, 'dew_point': 277.69, 'clouds': 1, 'wind_speed': 4.55, 'wind_deg': 336, 'weather': [{'id': 800, 'main': 'Clear', 'description': 'clear sky', 'icon': '01n'}]}, {'dt': 1591520400, 'temp': 282.89, 'feels_like': 278.54, 'pressure': 1014, 'humidity': 67, 'dew_point': 277.25, 'clouds': 1, 'wind_speed': 4.31, 'wind_deg': 340, 'weather': [{'id': 800, 'main': 'Clear', 'description': 'clear sky', 'icon': '01n'}]}, {'dt': 1591524000, 'temp': 282.74, 'feels_like': 278.5, 'pressure': 1015, 'humidity': 68, 'dew_point': 277.31, 'clouds': 1, 'wind_speed': 4.17, 'wind_deg': 344, 'weather': [{'id': 800, 'main': 'Clear', 'description': 'clear sky', 'icon': '01d'}]}, {'dt': 1591527600, 'temp': 283.92, 'feels_like': 279.76, 'pressure': 1016, 'humidity': 68, 'dew_point': 278.35, 'clouds': 1, 'wind_speed': 4.37, 'wind_deg': 350, 'weather': [{'id': 800, 'main': 'Clear', 'description': 'clear sky', 'icon': '01d'}]}, {'dt': 1591531200, 'temp': 285.7, 'feels_like': 281.31, 'pressure': 1016, 'humidity': 64, 'dew_point': 279.12, 'clouds': 0, 'wind_speed': 4.94, 'wind_deg': 353, 'weather': [{'id': 800, 'main': 'Clear', 'description': 'clear sky', 'icon': '01d'}]}, {'dt': 1591534800, 'temp': 287.22, 'feels_like': 282.94, 'pressure': 1017, 'humidity': 61, 'dew_point': 279.89, 'clouds': 0, 'wind_speed': 5.01, 'wind_deg': 354, 'weather': [{'id': 800, 'main': 'Clear', 'description': 'clear sky', 'icon': '01d'}]}], 'daily': [{'dt': 1591376400, 'sunrise': 1591348547, 'sunset': 1591404434, 'temp': {'day': 297.82, 'min': 289.83, 'max': 299.53, 'night': 289.83, 'eve': 294.78, 'morn': 295.9}, 'feels_like': {'day': 297.2, 'night': 290.76, 'eve': 294.44, 'morn': 295.07}, 'pressure': 1009, 'humidity': 56, 'dew_point': 288.46, 'wind_speed': 3.34, 'wind_deg': 250, 'weather': [{'id': 501, 'main': 'Rain', 'description': 'moderate rain', 'icon': '10d'}], 'clouds': 7, 'rain': 3.74, 'uvi': 7.98}, {'dt': 1591462800, 'sunrise': 1591434924, 'sunset': 1591490878, 'temp': {'day': 294.2, 'min': 284.03, 'max': 294.2, 'night': 284.03, 'eve': 288.43, 'morn': 289.97}, 'feels_like': {'day': 289.99, 'night': 279.92, 'eve': 285.37, 'morn': 289.32}, 'pressure': 1007, 'humidity': 58, 'dew_point': 285.75, 'wind_speed': 7.1, 'wind_deg': 316, 'weather': [{'id': 500, 'main': 'Rain', 'description': 'light rain', 'icon': '10d'}], 'clouds': 0, 'rain': 1.34, 'uvi': 7.09}, {'dt': 1591549200, 'sunrise': 1591521304, 'sunset': 1591577319, 'temp': {'day': 293.17, 'min': 283.71, 'max': 293.79, 'night': 283.71, 'eve': 289.23, 'morn': 285.7}, 'feels_like': {'day': 289.75, 'night': 280.81, 'eve': 286.97, 'morn': 281.31}, 'pressure': 1016, 'humidity': 42, 'dew_point': 280.19, 'wind_speed': 3.8, 'wind_deg': 336, 'weather': [{'id': 800, 'main': 'Clear', 'description': 'clear sky', 'icon': '01d'}], 'clouds': 0, 'uvi': 7.47}, {'dt': 1591635600, 'sunrise': 1591607686, 'sunset': 1591663759, 'temp': {'day': 294.27, 'min': 286.86, 'max': 294.27, 'night': 287.92, 'eve': 291.16, 'morn': 286.86}, 'feels_like': {'day': 292.18, 'night': 287.69, 'eve': 290.61, 'morn': 285.65}, 'pressure': 1018, 'humidity': 52, 'dew_point': 284.17, 'wind_speed': 3.39, 'wind_deg': 243, 'weather': [{'id': 802, 'main': 'Clouds', 'description': 'scattered clouds', 'icon': '03d'}], 'clouds': 31, 'uvi': 8.53}, {'dt': 1591722000, 'sunrise': 1591694071, 'sunset': 1591750197, 'temp': {'day': 298.6, 'min': 289.53, 'max': 299.24, 'night': 290.59, 'eve': 294.89, 'morn': 289.53}, 'feels_like': {'day': 298.1, 'night': 290.76, 'eve': 295.41, 'morn': 287.83}, 'pressure': 1015, 'humidity': 61, 'dew_point': 290.61, 'wind_speed': 4.33, 'wind_deg': 200, 'weather': [{'id': 800, 'main': 'Clear', 'description': 'clear sky', 'icon': '01d'}], 'clouds': 7, 'uvi': 8.9}, {'dt': 1591808400, 'sunrise': 1591780458, 'sunset': 1591836633, 'temp': {'day': 300.72, 'min': 287.35, 'max': 300.72, 'night': 287.35, 'eve': 295.05, 'morn': 294.1}, 'feels_like': {'day': 299.05, 'night': 286.29, 'eve': 296.37, 'morn': 292.76}, 'pressure': 1010, 'humidity': 66, 'dew_point': 293.96, 'wind_speed': 8.1, 'wind_deg': 202, 'weather': [{'id': 500, 'main': 'Rain', 'description': 'light rain', 'icon': '10d'}], 'clouds': 28, 'rain': 1.44, 'uvi': 10.29}, {'dt': 1591894800, 'sunrise': 1591866847, 'sunset': 1591923067, 'temp': {'day': 297.65, 'min': 288.29, 'max': 297.65, 'night': 288.29, 'eve': 291.95, 'morn': 289.89}, 'feels_like': {'day': 295.13, 'night': 287.16, 'eve': 291.13, 'morn': 289.3}, 'pressure': 1013, 'humidity': 55, 'dew_point': 288.14, 'wind_speed': 5.83, 'wind_deg': 196, 'weather': [{'id': 500, 'main': 'Rain', 'description': 'light rain', 'icon': '10d'}], 'clouds': 42, 'rain': 1.5, 'uvi': 9.22}, {'dt': 1591981200, 'sunrise': 1591953239, 'sunset': 1592009499, 'temp': {'day': 289.28, 'min': 280.7, 'max': 289.28, 'night': 280.7, 'eve': 286.78, 'morn': 284.31}, 'feels_like': {'day': 285.15, 'night': 278.46, 'eve': 283.61, 'morn': 280.84}, 'pressure': 1013, 'humidity': 57, 'dew_point': 280.81, 'wind_speed': 5.1, 'wind_deg': 277, 'weather': [{'id': 804, 'main': 'Clouds', 'description': 'overcast clouds', 'icon': '04d'}], 'clouds': 99, 'uvi': 7.98}]}\n"
     ]
    }
   ],
   "source": [
    "print(clean_response)"
   ]
  },
  {
   "cell_type": "markdown",
   "metadata": {},
   "source": [
    "<br />\n",
    "\n",
    "### Now that I have a dictionary, I can navigate through it to find what I'm looking for."
   ]
  },
  {
   "cell_type": "code",
   "execution_count": 7,
   "metadata": {},
   "outputs": [
    {
     "data": {
      "text/plain": [
       "[{'dt': 1591376400,\n",
       "  'sunrise': 1591348547,\n",
       "  'sunset': 1591404434,\n",
       "  'temp': {'day': 297.82,\n",
       "   'min': 289.83,\n",
       "   'max': 299.53,\n",
       "   'night': 289.83,\n",
       "   'eve': 294.78,\n",
       "   'morn': 295.9},\n",
       "  'feels_like': {'day': 297.2, 'night': 290.76, 'eve': 294.44, 'morn': 295.07},\n",
       "  'pressure': 1009,\n",
       "  'humidity': 56,\n",
       "  'dew_point': 288.46,\n",
       "  'wind_speed': 3.34,\n",
       "  'wind_deg': 250,\n",
       "  'weather': [{'id': 501,\n",
       "    'main': 'Rain',\n",
       "    'description': 'moderate rain',\n",
       "    'icon': '10d'}],\n",
       "  'clouds': 7,\n",
       "  'rain': 3.74,\n",
       "  'uvi': 7.98},\n",
       " {'dt': 1591462800,\n",
       "  'sunrise': 1591434924,\n",
       "  'sunset': 1591490878,\n",
       "  'temp': {'day': 294.2,\n",
       "   'min': 284.03,\n",
       "   'max': 294.2,\n",
       "   'night': 284.03,\n",
       "   'eve': 288.43,\n",
       "   'morn': 289.97},\n",
       "  'feels_like': {'day': 289.99,\n",
       "   'night': 279.92,\n",
       "   'eve': 285.37,\n",
       "   'morn': 289.32},\n",
       "  'pressure': 1007,\n",
       "  'humidity': 58,\n",
       "  'dew_point': 285.75,\n",
       "  'wind_speed': 7.1,\n",
       "  'wind_deg': 316,\n",
       "  'weather': [{'id': 500,\n",
       "    'main': 'Rain',\n",
       "    'description': 'light rain',\n",
       "    'icon': '10d'}],\n",
       "  'clouds': 0,\n",
       "  'rain': 1.34,\n",
       "  'uvi': 7.09},\n",
       " {'dt': 1591549200,\n",
       "  'sunrise': 1591521304,\n",
       "  'sunset': 1591577319,\n",
       "  'temp': {'day': 293.17,\n",
       "   'min': 283.71,\n",
       "   'max': 293.79,\n",
       "   'night': 283.71,\n",
       "   'eve': 289.23,\n",
       "   'morn': 285.7},\n",
       "  'feels_like': {'day': 289.75,\n",
       "   'night': 280.81,\n",
       "   'eve': 286.97,\n",
       "   'morn': 281.31},\n",
       "  'pressure': 1016,\n",
       "  'humidity': 42,\n",
       "  'dew_point': 280.19,\n",
       "  'wind_speed': 3.8,\n",
       "  'wind_deg': 336,\n",
       "  'weather': [{'id': 800,\n",
       "    'main': 'Clear',\n",
       "    'description': 'clear sky',\n",
       "    'icon': '01d'}],\n",
       "  'clouds': 0,\n",
       "  'uvi': 7.47},\n",
       " {'dt': 1591635600,\n",
       "  'sunrise': 1591607686,\n",
       "  'sunset': 1591663759,\n",
       "  'temp': {'day': 294.27,\n",
       "   'min': 286.86,\n",
       "   'max': 294.27,\n",
       "   'night': 287.92,\n",
       "   'eve': 291.16,\n",
       "   'morn': 286.86},\n",
       "  'feels_like': {'day': 292.18,\n",
       "   'night': 287.69,\n",
       "   'eve': 290.61,\n",
       "   'morn': 285.65},\n",
       "  'pressure': 1018,\n",
       "  'humidity': 52,\n",
       "  'dew_point': 284.17,\n",
       "  'wind_speed': 3.39,\n",
       "  'wind_deg': 243,\n",
       "  'weather': [{'id': 802,\n",
       "    'main': 'Clouds',\n",
       "    'description': 'scattered clouds',\n",
       "    'icon': '03d'}],\n",
       "  'clouds': 31,\n",
       "  'uvi': 8.53},\n",
       " {'dt': 1591722000,\n",
       "  'sunrise': 1591694071,\n",
       "  'sunset': 1591750197,\n",
       "  'temp': {'day': 298.6,\n",
       "   'min': 289.53,\n",
       "   'max': 299.24,\n",
       "   'night': 290.59,\n",
       "   'eve': 294.89,\n",
       "   'morn': 289.53},\n",
       "  'feels_like': {'day': 298.1, 'night': 290.76, 'eve': 295.41, 'morn': 287.83},\n",
       "  'pressure': 1015,\n",
       "  'humidity': 61,\n",
       "  'dew_point': 290.61,\n",
       "  'wind_speed': 4.33,\n",
       "  'wind_deg': 200,\n",
       "  'weather': [{'id': 800,\n",
       "    'main': 'Clear',\n",
       "    'description': 'clear sky',\n",
       "    'icon': '01d'}],\n",
       "  'clouds': 7,\n",
       "  'uvi': 8.9},\n",
       " {'dt': 1591808400,\n",
       "  'sunrise': 1591780458,\n",
       "  'sunset': 1591836633,\n",
       "  'temp': {'day': 300.72,\n",
       "   'min': 287.35,\n",
       "   'max': 300.72,\n",
       "   'night': 287.35,\n",
       "   'eve': 295.05,\n",
       "   'morn': 294.1},\n",
       "  'feels_like': {'day': 299.05,\n",
       "   'night': 286.29,\n",
       "   'eve': 296.37,\n",
       "   'morn': 292.76},\n",
       "  'pressure': 1010,\n",
       "  'humidity': 66,\n",
       "  'dew_point': 293.96,\n",
       "  'wind_speed': 8.1,\n",
       "  'wind_deg': 202,\n",
       "  'weather': [{'id': 500,\n",
       "    'main': 'Rain',\n",
       "    'description': 'light rain',\n",
       "    'icon': '10d'}],\n",
       "  'clouds': 28,\n",
       "  'rain': 1.44,\n",
       "  'uvi': 10.29},\n",
       " {'dt': 1591894800,\n",
       "  'sunrise': 1591866847,\n",
       "  'sunset': 1591923067,\n",
       "  'temp': {'day': 297.65,\n",
       "   'min': 288.29,\n",
       "   'max': 297.65,\n",
       "   'night': 288.29,\n",
       "   'eve': 291.95,\n",
       "   'morn': 289.89},\n",
       "  'feels_like': {'day': 295.13, 'night': 287.16, 'eve': 291.13, 'morn': 289.3},\n",
       "  'pressure': 1013,\n",
       "  'humidity': 55,\n",
       "  'dew_point': 288.14,\n",
       "  'wind_speed': 5.83,\n",
       "  'wind_deg': 196,\n",
       "  'weather': [{'id': 500,\n",
       "    'main': 'Rain',\n",
       "    'description': 'light rain',\n",
       "    'icon': '10d'}],\n",
       "  'clouds': 42,\n",
       "  'rain': 1.5,\n",
       "  'uvi': 9.22},\n",
       " {'dt': 1591981200,\n",
       "  'sunrise': 1591953239,\n",
       "  'sunset': 1592009499,\n",
       "  'temp': {'day': 289.28,\n",
       "   'min': 280.7,\n",
       "   'max': 289.28,\n",
       "   'night': 280.7,\n",
       "   'eve': 286.78,\n",
       "   'morn': 284.31},\n",
       "  'feels_like': {'day': 285.15,\n",
       "   'night': 278.46,\n",
       "   'eve': 283.61,\n",
       "   'morn': 280.84},\n",
       "  'pressure': 1013,\n",
       "  'humidity': 57,\n",
       "  'dew_point': 280.81,\n",
       "  'wind_speed': 5.1,\n",
       "  'wind_deg': 277,\n",
       "  'weather': [{'id': 804,\n",
       "    'main': 'Clouds',\n",
       "    'description': 'overcast clouds',\n",
       "    'icon': '04d'}],\n",
       "  'clouds': 99,\n",
       "  'uvi': 7.98}]"
      ]
     },
     "execution_count": 7,
     "metadata": {},
     "output_type": "execute_result"
    }
   ],
   "source": [
    "clean_response[\"daily\"]"
   ]
  },
  {
   "cell_type": "code",
   "execution_count": 8,
   "metadata": {},
   "outputs": [
    {
     "data": {
      "text/plain": [
       "8"
      ]
     },
     "execution_count": 8,
     "metadata": {},
     "output_type": "execute_result"
    }
   ],
   "source": [
    "len(clean_response[\"daily\"])"
   ]
  },
  {
   "cell_type": "code",
   "execution_count": 10,
   "metadata": {},
   "outputs": [
    {
     "data": {
      "text/plain": [
       "{'dt': 1591376400,\n",
       " 'sunrise': 1591348547,\n",
       " 'sunset': 1591404434,\n",
       " 'temp': {'day': 297.82,\n",
       "  'min': 289.83,\n",
       "  'max': 299.53,\n",
       "  'night': 289.83,\n",
       "  'eve': 294.78,\n",
       "  'morn': 295.9},\n",
       " 'feels_like': {'day': 297.2, 'night': 290.76, 'eve': 294.44, 'morn': 295.07},\n",
       " 'pressure': 1009,\n",
       " 'humidity': 56,\n",
       " 'dew_point': 288.46,\n",
       " 'wind_speed': 3.34,\n",
       " 'wind_deg': 250,\n",
       " 'weather': [{'id': 501,\n",
       "   'main': 'Rain',\n",
       "   'description': 'moderate rain',\n",
       "   'icon': '10d'}],\n",
       " 'clouds': 7,\n",
       " 'rain': 3.74,\n",
       " 'uvi': 7.98}"
      ]
     },
     "execution_count": 10,
     "metadata": {},
     "output_type": "execute_result"
    }
   ],
   "source": [
    "clean_response[\"daily\"][0]"
   ]
  },
  {
   "cell_type": "code",
   "execution_count": 45,
   "metadata": {},
   "outputs": [
    {
     "data": {
      "text/plain": [
       "[{'id': 802,\n",
       "  'main': 'Clouds',\n",
       "  'description': 'scattered clouds',\n",
       "  'icon': '03d'}]"
      ]
     },
     "execution_count": 45,
     "metadata": {},
     "output_type": "execute_result"
    }
   ],
   "source": [
    "clean_response[\"daily\"][0][\"weather\"]"
   ]
  },
  {
   "cell_type": "code",
   "execution_count": 12,
   "metadata": {},
   "outputs": [
    {
     "data": {
      "text/plain": [
       "{'id': 501, 'main': 'Rain', 'description': 'moderate rain', 'icon': '10d'}"
      ]
     },
     "execution_count": 12,
     "metadata": {},
     "output_type": "execute_result"
    }
   ],
   "source": [
    "clean_response[\"daily\"][0][\"weather\"][0]"
   ]
  },
  {
   "cell_type": "code",
   "execution_count": 14,
   "metadata": {},
   "outputs": [
    {
     "data": {
      "text/plain": [
       "501"
      ]
     },
     "execution_count": 14,
     "metadata": {},
     "output_type": "execute_result"
    }
   ],
   "source": [
    "clean_response[\"daily\"][0][\"weather\"][0][\"id\"]"
   ]
  },
  {
   "cell_type": "markdown",
   "metadata": {},
   "source": [
    "<br />\n",
    "\n",
    "### Some testing"
   ]
  },
  {
   "cell_type": "code",
   "execution_count": 15,
   "metadata": {},
   "outputs": [
    {
     "name": "stdout",
     "output_type": "stream",
     "text": [
      "501\n",
      "500\n",
      "800\n",
      "802\n",
      "800\n",
      "500\n",
      "500\n",
      "804\n"
     ]
    }
   ],
   "source": [
    "list_length = len(clean_response[\"daily\"])\n",
    "\n",
    "for i in range(list_length):\n",
    "    print(clean_response[\"daily\"][i][\"weather\"][0][\"id\"])"
   ]
  },
  {
   "cell_type": "markdown",
   "metadata": {},
   "source": [
    "<br />\n",
    "\n",
    "### Expected thunderstorms"
   ]
  },
  {
   "cell_type": "code",
   "execution_count": 16,
   "metadata": {},
   "outputs": [
    {
     "name": "stdout",
     "output_type": "stream",
     "text": [
      "Day 0 clear\n",
      "Day 1 clear\n",
      "Day 2 clear\n",
      "Day 3 clear\n",
      "Day 4 clear\n",
      "Day 5 clear\n",
      "Day 6 clear\n",
      "Day 7 clear\n"
     ]
    }
   ],
   "source": [
    "for i in range(len(clean_response[\"daily\"])):\n",
    "    \n",
    "    if (199 < clean_response[\"daily\"][i][\"weather\"][0][\"id\"] < 240) :\n",
    "        print(f\"Thunderstorms are expected in {i} days\")\n",
    "    \n",
    "    else:\n",
    "        print(f\"Day {i} clear\")"
   ]
  },
  {
   "cell_type": "markdown",
   "metadata": {},
   "source": [
    "<br />\n",
    "\n",
    "### Expected rain"
   ]
  },
  {
   "cell_type": "code",
   "execution_count": 17,
   "metadata": {},
   "outputs": [
    {
     "name": "stdout",
     "output_type": "stream",
     "text": [
      "Rain is expected in 0 days\n",
      "Rain is expected in 1 days\n",
      "Day 2 clear\n",
      "Day 3 clear\n",
      "Day 4 clear\n",
      "Rain is expected in 5 days\n",
      "Rain is expected in 6 days\n",
      "Day 7 clear\n"
     ]
    }
   ],
   "source": [
    "for i in range(len(clean_response[\"daily\"])):\n",
    "    \n",
    "    if (499 < clean_response[\"daily\"][i][\"weather\"][0][\"id\"] < 540) :\n",
    "        print(f\"Rain is expected in {i} days\")\n",
    "    \n",
    "    else:\n",
    "        print(f\"Day {i} clear\")"
   ]
  },
  {
   "cell_type": "markdown",
   "metadata": {},
   "source": [
    "<br />\n",
    "\n",
    "### Using counters"
   ]
  },
  {
   "cell_type": "code",
   "execution_count": 18,
   "metadata": {},
   "outputs": [
    {
     "name": "stdout",
     "output_type": "stream",
     "text": [
      "Rain is expected in 11 hours\n",
      "Rain is expected in 12 hours\n",
      "Rain is expected in 13 hours\n",
      "Rain is expected in 14 hours\n",
      "Rain is expected in 16 hours\n",
      "Rain is expected in 24 hours\n",
      "Rain is expected in 25 hours\n",
      "Rain is expected in 26 hours\n",
      "Rain is expected in 27 hours\n",
      "Rain is expected in 28 hours\n",
      "Rain is expected in 29 hours\n",
      "\n",
      "TOTAL: 11 hours of rain over the next 48 hours\n"
     ]
    }
   ],
   "source": [
    "rain = 0\n",
    "\n",
    "for i in range(48):  \n",
    "    if (499 < clean_response[\"hourly\"][i][\"weather\"][0][\"id\"] < 540):\n",
    "        print(f\"Rain is expected in {i} hours\")\n",
    "        rain = rain + 1\n",
    "\n",
    "        \n",
    "if rain == 0:\n",
    "    print(\"All clear for the next 48 hours\")\n",
    "else:\n",
    "    print(f\"\\nTOTAL: {rain} hours of rain over the next 48 hours\")"
   ]
  },
  {
   "cell_type": "markdown",
   "metadata": {},
   "source": [
    "<br />\n",
    "\n",
    "### What else could I add to this to make it cooler?"
   ]
  },
  {
   "cell_type": "code",
   "execution_count": 19,
   "metadata": {},
   "outputs": [
    {
     "name": "stdout",
     "output_type": "stream",
     "text": [
      "hello\n",
      "Good bye\n"
     ]
    }
   ],
   "source": [
    "import time\n",
    "\n",
    "print(\"hello\")\n",
    "time.sleep(10)\n",
    "print(\"Good bye\")"
   ]
  },
  {
   "cell_type": "code",
   "execution_count": 21,
   "metadata": {},
   "outputs": [
    {
     "name": "stdout",
     "output_type": "stream",
     "text": [
      "Moana\n",
      "3\n",
      "Moana\n",
      "4\n",
      "Moana\n",
      "5\n",
      "Moana\n",
      "6\n",
      "Moana\n",
      "7\n",
      "Moana\n",
      "8\n",
      "Moana\n",
      "9\n",
      "Moana\n",
      "10\n",
      "Moana\n",
      "11\n",
      "Moana\n",
      "12\n",
      "Moana\n",
      "13\n",
      "Moana\n",
      "14\n",
      "Moana\n",
      "15\n",
      "Moana\n",
      "16\n",
      "Moana\n",
      "17\n",
      "Moana\n",
      "18\n"
     ]
    }
   ],
   "source": [
    "age = 2\n",
    "\n",
    "while (age < 18):\n",
    "    print(\"Moana\")\n",
    "    age = age + 1\n",
    "    print(age)"
   ]
  },
  {
   "cell_type": "code",
   "execution_count": null,
   "metadata": {},
   "outputs": [],
   "source": [
    "# while True:\n",
    "#     print()"
   ]
  }
 ],
 "metadata": {
  "kernelspec": {
   "display_name": "Python 3",
   "language": "python",
   "name": "python3"
  },
  "language_info": {
   "codemirror_mode": {
    "name": "ipython",
    "version": 3
   },
   "file_extension": ".py",
   "mimetype": "text/x-python",
   "name": "python",
   "nbconvert_exporter": "python",
   "pygments_lexer": "ipython3",
   "version": "3.7.3"
  }
 },
 "nbformat": 4,
 "nbformat_minor": 4
}
